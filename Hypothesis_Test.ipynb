{
  "nbformat": 4,
  "nbformat_minor": 0,
  "metadata": {
    "colab": {
      "provenance": []
    },
    "kernelspec": {
      "name": "python3",
      "display_name": "Python 3"
    },
    "language_info": {
      "name": "python"
    }
  },
  "cells": [
    {
      "cell_type": "markdown",
      "source": [
        "# Hypothesis testing"
      ],
      "metadata": {
        "id": "yEBRpoEBvwz7"
      }
    },
    {
      "cell_type": "markdown",
      "source": [
        "# 1) State the Hypothesis Statement\n",
        "Null Hypothesis(H0):The observed weekly operating costs are not higher than the theoretical model.\n",
        "\n",
        "H0:\tμ =1,000+5X\n",
        "\n",
        "\n",
        "\n",
        "Alternative Hypothesis(H1):The observed weekly operating costs are higher than the theoretical model.\n",
        "\n",
        "\n",
        "\n",
        "H1: μ >1,000+5X"
      ],
      "metadata": {
        "id": "3Y4Np2Jm_of3"
      }
    },
    {
      "cell_type": "code",
      "execution_count": 3,
      "metadata": {
        "id": "XdotKLxq7Au0"
      },
      "outputs": [],
      "source": [
        "import pandas as pd\n",
        "import numpy as np\n",
        "from scipy import stats"
      ]
    },
    {
      "cell_type": "markdown",
      "source": [
        "# 2. Calculate the Test Statistic:"
      ],
      "metadata": {
        "id": "c6x2s55b0c1U"
      }
    },
    {
      "cell_type": "code",
      "source": [
        "x=3050 #sample mean\n",
        "n=25 #sample size\n",
        "sd=125 #sample standard deviation\n",
        "x1=4000 #theoretical mean"
      ],
      "metadata": {
        "id": "I9L1Iatm7XTj"
      },
      "execution_count": 4,
      "outputs": []
    },
    {
      "cell_type": "markdown",
      "source": [
        "# 3. Determine the Critical Value:"
      ],
      "metadata": {
        "id": "Wi0cLPT40pWo"
      }
    },
    {
      "cell_type": "code",
      "source": [
        "#t critical value\n",
        "t_critical=stats.norm.ppf(0.975)\n",
        "print(\"T-Critical Value:\",t_critical)"
      ],
      "metadata": {
        "colab": {
          "base_uri": "https://localhost:8080/"
        },
        "id": "CilA2PdQ8hTO",
        "outputId": "9b8c7e80-3809-4fdb-a577-5a1d6a6e1a04"
      },
      "execution_count": 5,
      "outputs": [
        {
          "output_type": "stream",
          "name": "stdout",
          "text": [
            "T-Critical Value: 1.959963984540054\n"
          ]
        }
      ]
    },
    {
      "cell_type": "code",
      "source": [
        "#t statics value\n",
        "t_stat=(x-x1)/(sd/np.sqrt(n))\n",
        "print(\"T-Statistics:\",t_stat)"
      ],
      "metadata": {
        "colab": {
          "base_uri": "https://localhost:8080/"
        },
        "id": "bf6GIJw49W5Y",
        "outputId": "c47d3070-02bb-4224-a54a-d39faadbb5cd"
      },
      "execution_count": 6,
      "outputs": [
        {
          "output_type": "stream",
          "name": "stdout",
          "text": [
            "T-Statistics: -38.0\n"
          ]
        }
      ]
    },
    {
      "cell_type": "markdown",
      "source": [
        "# 4) Make a Decision:"
      ],
      "metadata": {
        "id": "7NZm6KQL0KwU"
      }
    },
    {
      "cell_type": "code",
      "source": [
        "if(t_stat>t_critical):\n",
        "    print(\"Reject Null Hypothesis\")\n",
        "else:\n",
        "    print(\"Accept Null Hypothesis\")"
      ],
      "metadata": {
        "colab": {
          "base_uri": "https://localhost:8080/"
        },
        "id": "-DA4Q_og9hh1",
        "outputId": "de1a6576-f245-42ca-9a8c-a4ccd7a0ea72"
      },
      "execution_count": 7,
      "outputs": [
        {
          "output_type": "stream",
          "name": "stdout",
          "text": [
            "Accept Null Hypothesis\n"
          ]
        }
      ]
    },
    {
      "cell_type": "markdown",
      "source": [
        "# 5. Conclusion\n",
        "Based on the hypothesis test, there is not strong evidence to support the restaurant owners' claim that the weekly operating costs are higher than the model suggests."
      ],
      "metadata": {
        "id": "0HQa1HIk0G0U"
      }
    },
    {
      "cell_type": "markdown",
      "source": [
        "****"
      ],
      "metadata": {
        "id": "AQUlUPa01Dav"
      }
    },
    {
      "cell_type": "markdown",
      "source": [
        "# Chisquare test"
      ],
      "metadata": {
        "id": "u5DsmGq7v3dG"
      }
    },
    {
      "cell_type": "markdown",
      "source": [
        "# 1) State the Hypothesis Statement"
      ],
      "metadata": {
        "id": "NEN9Fik4xRsJ"
      }
    },
    {
      "cell_type": "markdown",
      "source": [
        "\n",
        "*   Null Hypothesis (H0): There is no significant association between the type of smart home device purchased (Smart Thermostats vs. Smart Lights) and the customer satisfaction level.\n",
        "*   Alternative Hypothesis(H1): There is a significant association between the type of smart home device purchased (Smart Thermostats vs. Smart Lights) and the customer satisfaction level.\n",
        "\n"
      ],
      "metadata": {
        "id": "6aCC2JN0yIkS"
      }
    },
    {
      "cell_type": "markdown",
      "source": [
        "# 2. Compute the Chi-Square Statistic:"
      ],
      "metadata": {
        "id": "zSe9pq4h1Vcn"
      }
    },
    {
      "cell_type": "code",
      "source": [
        "# Observed frequencies\n",
        "observed = np.array([\n",
        "    [50, 70],\n",
        "    [80, 100],\n",
        "    [60, 90],\n",
        "    [30, 50],\n",
        "    [20, 50]\n",
        "])\n",
        "print(\"Observed array:\",observed)"
      ],
      "metadata": {
        "colab": {
          "base_uri": "https://localhost:8080/"
        },
        "id": "4Xki-dGOv7jz",
        "outputId": "e87621ad-864e-46f8-9c5e-d4aca4e18f33"
      },
      "execution_count": 8,
      "outputs": [
        {
          "output_type": "stream",
          "name": "stdout",
          "text": [
            "Observed array: [[ 50  70]\n",
            " [ 80 100]\n",
            " [ 60  90]\n",
            " [ 30  50]\n",
            " [ 20  50]]\n"
          ]
        }
      ]
    },
    {
      "cell_type": "code",
      "source": [
        "# Row and column totals\n",
        "row_totals = observed.sum(axis=1)\n",
        "col_totals = observed.sum(axis=0)\n",
        "grand_total = observed.sum()\n",
        "print(\"Row totals:\\n\",row_totals)\n",
        "print(\"Column totals:\\n\",col_totals)\n",
        "print(\"Grand total:\\n\",grand_total)"
      ],
      "metadata": {
        "colab": {
          "base_uri": "https://localhost:8080/"
        },
        "id": "goC9DPdvwCs_",
        "outputId": "a44ff655-5ebe-4168-e639-6061bbe243e4"
      },
      "execution_count": 9,
      "outputs": [
        {
          "output_type": "stream",
          "name": "stdout",
          "text": [
            "Row totals:\n",
            " [120 180 150  80  70]\n",
            "Column totals:\n",
            " [240 360]\n",
            "Grand total:\n",
            " 600\n"
          ]
        }
      ]
    },
    {
      "cell_type": "code",
      "source": [
        "# Expected frequencies\n",
        "expected = np.outer(row_totals, col_totals) / grand_total\n",
        "print(\"Expected array:\\n\",expected)"
      ],
      "metadata": {
        "colab": {
          "base_uri": "https://localhost:8080/"
        },
        "id": "lPXFFHHewMUf",
        "outputId": "8f93e851-fccb-4adf-d83f-57a69ee27062"
      },
      "execution_count": 10,
      "outputs": [
        {
          "output_type": "stream",
          "name": "stdout",
          "text": [
            "Expected array:\n",
            " [[ 48.  72.]\n",
            " [ 72. 108.]\n",
            " [ 60.  90.]\n",
            " [ 32.  48.]\n",
            " [ 28.  42.]]\n"
          ]
        }
      ]
    },
    {
      "cell_type": "code",
      "source": [
        "# Chi-Square statistic calculation\n",
        "chi_square_statistic = ((observed - expected) ** 2 / expected).sum()\n",
        "print(\"Chi-Square statistic:\\n\",chi_square_statistic)"
      ],
      "metadata": {
        "colab": {
          "base_uri": "https://localhost:8080/"
        },
        "id": "sdbzI6JcwQRZ",
        "outputId": "da42a314-cf1b-47f8-fb9b-c13d103ffca6"
      },
      "execution_count": 11,
      "outputs": [
        {
          "output_type": "stream",
          "name": "stdout",
          "text": [
            "Chi-Square statistic:\n",
            " 5.638227513227513\n"
          ]
        }
      ]
    },
    {
      "cell_type": "markdown",
      "source": [
        "# 3. Determine the Critical Value"
      ],
      "metadata": {
        "id": "eqj7UoB21lpm"
      }
    },
    {
      "cell_type": "code",
      "source": [
        "# Degrees of freedom\n",
        "df = (observed.shape[0] - 1) * (observed.shape[1] - 1)\n",
        "print(\"Degrees of freedom:\\n\",df)"
      ],
      "metadata": {
        "colab": {
          "base_uri": "https://localhost:8080/"
        },
        "id": "Dk_322S6wTEZ",
        "outputId": "a59e05de-0759-4f9a-d29f-4209d4e44942"
      },
      "execution_count": 12,
      "outputs": [
        {
          "output_type": "stream",
          "name": "stdout",
          "text": [
            "Degrees of freedom:\n",
            " 4\n"
          ]
        }
      ]
    },
    {
      "cell_type": "code",
      "source": [
        "# Critical value at alpha = 0.05\n",
        "critical_value = stats.chi2.ppf(0.95, df)\n",
        "print(\"Critical value:\\n\",critical_value)"
      ],
      "metadata": {
        "colab": {
          "base_uri": "https://localhost:8080/"
        },
        "id": "5SebHBgUwWzq",
        "outputId": "1ad655a5-2a30-424e-8b3d-44aadfcdb165"
      },
      "execution_count": 13,
      "outputs": [
        {
          "output_type": "stream",
          "name": "stdout",
          "text": [
            "Critical value:\n",
            " 9.487729036781154\n"
          ]
        }
      ]
    },
    {
      "cell_type": "code",
      "source": [
        "# P-value\n",
        "p_value = 1 - stats.chi2.cdf(chi_square_statistic, df)\n",
        "print(\"P-value:\\n\",p_value)"
      ],
      "metadata": {
        "colab": {
          "base_uri": "https://localhost:8080/"
        },
        "id": "41JMCVd8wZLU",
        "outputId": "4a99f379-d5c6-406d-d34c-f8402e0ba0cd"
      },
      "execution_count": 14,
      "outputs": [
        {
          "output_type": "stream",
          "name": "stdout",
          "text": [
            "P-value:\n",
            " 0.22784371130697179\n"
          ]
        }
      ]
    },
    {
      "cell_type": "markdown",
      "source": [
        "# 4. Make a Decision:"
      ],
      "metadata": {
        "id": "ueXBBs0n1qRT"
      }
    },
    {
      "cell_type": "code",
      "source": [
        "if(chi_square_statistic > critical_value):\n",
        "    print(\"Reject H0, there is a relationship between 2 categorical variables\")\n",
        "else:\n",
        "    print(\"Accept H0, there is no relationship between 2 categorical variables\")"
      ],
      "metadata": {
        "colab": {
          "base_uri": "https://localhost:8080/"
        },
        "id": "aKAz0gzzwfnV",
        "outputId": "e4226a2a-c14e-4cd8-8ca4-73574b084482"
      },
      "execution_count": 15,
      "outputs": [
        {
          "output_type": "stream",
          "name": "stdout",
          "text": [
            "Accept H0, there is no relationship between 2 categorical variables\n"
          ]
        }
      ]
    },
    {
      "cell_type": "markdown",
      "source": [
        "# 5)Conclusion"
      ],
      "metadata": {
        "id": "JfpwPyzZzVos"
      }
    },
    {
      "cell_type": "markdown",
      "source": [
        "* Based on the Chi-Square test for independence, there is no significant association between the type of smart home device purchased (Smart Thermostats vs. Smart Lights) and the customer satisfaction level at the 0.05 significance level.\n"
      ],
      "metadata": {
        "id": "zc1o1QDUzeAl"
      }
    },
    {
      "cell_type": "markdown",
      "source": [
        "****"
      ],
      "metadata": {
        "id": "syr8oeGN2HBP"
      }
    }
  ]
}